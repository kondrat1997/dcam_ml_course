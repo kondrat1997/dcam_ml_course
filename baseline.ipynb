{
 "cells": [
  {
   "cell_type": "code",
   "execution_count": null,
   "metadata": {
    "collapsed": true
   },
   "outputs": [],
   "source": [
    "import pandas as pd\n",
    "import seaborn as sns\n",
    "import matplotlib.pyplot as plt\n",
    "%matplotlib inline"
   ]
  },
  {
   "cell_type": "code",
   "execution_count": 93,
   "metadata": {},
   "outputs": [
    {
     "name": "stdout",
     "output_type": "stream",
     "text": [
      "('Fix in train: ', 550)\n",
      "('Fix in test : ', 149)\n"
     ]
    }
   ],
   "source": [
    "ss = pd.read_csv(\"sample_submission.csv\")\n",
    "train_df = pd.read_csv(\"train.csv/train.csv\")\n",
    "test_df = pd.read_csv(\"test.csv/test.csv\")\n",
    "fx = pd.read_excel('BAD_ADDRESS_FIX.xlsx')\n",
    "macro = pd.read_csv(\"macro.csv\")\n",
    "\n",
    "#фиксим данные\n",
    "fx.set_index('id',inplace=True)\n",
    "train_df.set_index('id',inplace=True)\n",
    "test_df.set_index('id',inplace=True)\n",
    "\n",
    "train_df.update(fx)\n",
    "test_df.update(fx)\n",
    "\n",
    "print('Fix in train: ', train_df.index.intersection(fx.index).shape[0])\n",
    "print('Fix in test : ', test_df.index.intersection(fx.index).shape[0])\n",
    "\n",
    "train_df.reset_index(inplace=True)\n",
    "test_df.reset_index(inplace=True)\n",
    "\n",
    "#добавим фичи с временем\n",
    "train_df['yearmonth'] = train_df['timestamp'].apply(lambda x: x[:4] + \"-\" + x[5:7])\n",
    "train_df['year'] = train_df['timestamp'].apply(lambda x: x[:4])\n",
    "train_df['month'] = train_df['timestamp'].apply(lambda x: x[5:7])\n",
    "\n",
    "test_df['yearmonth'] = test_df['timestamp'].apply(lambda x: x[:4] + \"-\" + x[5:7])\n",
    "test_df['year'] = test_df['timestamp'].apply(lambda x: x[:4])\n",
    "test_df['month'] = test_df['timestamp'].apply(lambda x: x[5:7])"
   ]
  },
  {
   "cell_type": "code",
   "execution_count": 6,
   "metadata": {
    "collapsed": true
   },
   "outputs": [],
   "source": [
    "###################"
   ]
  },
  {
   "cell_type": "code",
   "execution_count": 124,
   "metadata": {
    "collapsed": true
   },
   "outputs": [],
   "source": [
    "from sklearn import model_selection, preprocessing\n",
    "import xgboost as xgb\n",
    "\n",
    "y_train = train_df[\"price_doc\"]\n",
    "x_train = train_df.drop([\"id\", \"timestamp\", \"price_doc\"], axis=1)\n",
    "x_test = test_df.drop([\"id\", \"timestamp\"], axis=1)\n",
    "\n",
    "for c in x_train.columns:\n",
    "    if x_train[c].dtype == 'object':\n",
    "        lbl = preprocessing.LabelEncoder()\n",
    "        lbl.fit(list(x_train[c].values)) \n",
    "        x_train[c] = lbl.transform(list(x_train[c].values))\n",
    "        \n",
    "for c in x_test.columns:\n",
    "    if x_test[c].dtype == 'object':\n",
    "        lbl = preprocessing.LabelEncoder()\n",
    "        lbl.fit(list(x_test[c].values)) \n",
    "        x_test[c] = lbl.transform(list(x_test[c].values))\n",
    "\n",
    "xgb_params = {\n",
    "    'eta': 0.05,\n",
    "    'max_depth': 4,\n",
    "    'subsample': 0.7,\n",
    "    'colsample_bytree': 0.7,\n",
    "    'objective': 'reg:linear',\n",
    "    'eval_metric': 'rmse',\n",
    "    'rate_drop': 0.5,\n",
    "    'silent': 1\n",
    "}\n",
    "\n",
    "dtrain = xgb.DMatrix(x_train, y_train)\n",
    "dtest = xgb.DMatrix(x_test)"
   ]
  },
  {
   "cell_type": "code",
   "execution_count": 125,
   "metadata": {},
   "outputs": [
    {
     "name": "stdout",
     "output_type": "stream",
     "text": [
      "[0]\ttrain-rmse:8.21066e+06\ttest-rmse:8.21227e+06\n",
      "[50]\ttrain-rmse:2.73135e+06\ttest-rmse:2.97482e+06\n",
      "[100]\ttrain-rmse:2.39252e+06\ttest-rmse:2.76022e+06\n",
      "[150]\ttrain-rmse:2.26357e+06\ttest-rmse:2.71039e+06\n",
      "[200]\ttrain-rmse:2.17791e+06\ttest-rmse:2.68358e+06\n",
      "[250]\ttrain-rmse:2.10643e+06\ttest-rmse:2.66363e+06\n",
      "[300]\ttrain-rmse:2.04916e+06\ttest-rmse:2.65395e+06\n",
      "[350]\ttrain-rmse:1.99746e+06\ttest-rmse:2.6444e+06\n",
      "[400]\ttrain-rmse:1.95196e+06\ttest-rmse:2.6381e+06\n",
      "[450]\ttrain-rmse:1.91364e+06\ttest-rmse:2.63297e+06\n",
      "[500]\ttrain-rmse:1.87674e+06\ttest-rmse:2.62897e+06\n",
      "[550]\ttrain-rmse:1.84216e+06\ttest-rmse:2.62611e+06\n",
      "[600]\ttrain-rmse:1.80983e+06\ttest-rmse:2.62352e+06\n",
      "CPU times: user 9min 53s, sys: 4.08 s, total: 9min 57s\n",
      "Wall time: 2min 34s\n"
     ]
    },
    {
     "data": {
      "image/png": "[encoded data removed]",
      "text/plain": [
       "<matplotlib.figure.Figure at 0x7ff9f5e6f810>"
      ]
     },
     "metadata": {},
     "output_type": "display_data"
    }
   ],
   "source": [
    "%%time\n",
    "cv_output = xgb.cv(xgb_params, dtrain, num_boost_round=1000, early_stopping_rounds=20,\n",
    "    verbose_eval=50, show_stdv=False)\n",
    "cv_output[['train-rmse-mean', 'test-rmse-mean']].plot()"
   ]
  },
  {
   "cell_type": "code",
   "execution_count": 119,
   "metadata": {},
   "outputs": [
    {
     "name": "stdout",
     "output_type": "stream",
     "text": [
      "[0]\ttrain-rmse:8.19915e+06\ttest-rmse:8.2079e+06\n",
      "[50]\ttrain-rmse:2.17083e+06\ttest-rmse:2.81916e+06\n",
      "[100]\ttrain-rmse:1.77633e+06\ttest-rmse:2.65607e+06\n",
      "[150]\ttrain-rmse:1.62295e+06\ttest-rmse:2.62976e+06\n",
      "[200]\ttrain-rmse:1.51053e+06\ttest-rmse:2.61992e+06\n",
      "[250]\ttrain-rmse:1.42239e+06\ttest-rmse:2.61621e+06\n",
      "[300]\ttrain-rmse:1.34291e+06\ttest-rmse:2.61504e+06\n",
      "CPU times: user 8min 42s, sys: 824 ms, total: 8min 43s\n",
      "Wall time: 2min 12s\n"
     ]
    },
    {
     "data": {
      "image/png": "[encoded data removed]",
      "text/plain": [
       "<matplotlib.figure.Figure at 0x7ff9e369cd50>"
      ]
     },
     "metadata": {},
     "output_type": "display_data"
    }
   ],
   "source": [
    "%%time\n",
    "cv_output = xgb.cv(xgb_params, dtrain, num_boost_round=1000, early_stopping_rounds=20,\n",
    "    verbose_eval=50, show_stdv=False)\n",
    "cv_output[['train-rmse-mean', 'test-rmse-mean']].plot()"
   ]
  },
  {
   "cell_type": "code",
   "execution_count": 115,
   "metadata": {},
   "outputs": [
    {
     "name": "stdout",
     "output_type": "stream",
     "text": [
      "CPU times: user 4min 56s, sys: 296 ms, total: 4min 56s\n",
      "Wall time: 1min 16s\n"
     ]
    }
   ],
   "source": [
    "%%time\n",
    "num_boost_rounds = 500#len(cv_output)\n",
    "model = xgb.train(dict(xgb_params, silent=0), dtrain, num_boost_round= num_boost_rounds)"
   ]
  },
  {
   "cell_type": "code",
   "execution_count": 116,
   "metadata": {},
   "outputs": [
    {
     "data": {
      "text/html": [
       "<div>\n",
       "<table border=\"1\" class=\"dataframe\">\n",
       "  <thead>\n",
       "    <tr style=\"text-align: right;\">\n",
       "      <th></th>\n",
       "      <th>id</th>\n",
       "      <th>price_doc</th>\n",
       "    </tr>\n",
       "  </thead>\n",
       "  <tbody>\n",
       "    <tr>\n",
       "      <th>0</th>\n",
       "      <td>30474</td>\n",
       "      <td>5102918.0</td>\n",
       "    </tr>\n",
       "    <tr>\n",
       "      <th>1</th>\n",
       "      <td>30475</td>\n",
       "      <td>6684698.0</td>\n",
       "    </tr>\n",
       "    <tr>\n",
       "      <th>2</th>\n",
       "      <td>30476</td>\n",
       "      <td>5071336.0</td>\n",
       "    </tr>\n",
       "    <tr>\n",
       "      <th>3</th>\n",
       "      <td>30477</td>\n",
       "      <td>4449231.0</td>\n",
       "    </tr>\n",
       "    <tr>\n",
       "      <th>4</th>\n",
       "      <td>30478</td>\n",
       "      <td>3427465.5</td>\n",
       "    </tr>\n",
       "  </tbody>\n",
       "</table>\n",
       "</div>"
      ],
      "text/plain": [
       "      id  price_doc\n",
       "0  30474  5102918.0\n",
       "1  30475  6684698.0\n",
       "2  30476  5071336.0\n",
       "3  30477  4449231.0\n",
       "4  30478  3427465.5"
      ]
     },
     "execution_count": 116,
     "metadata": {},
     "output_type": "execute_result"
    }
   ],
   "source": [
    "y_predict = model.predict(dtest)\n",
    "id_test = test_df.id\n",
    "output = pd.DataFrame({'id': id_test, 'price_doc': y_predict})\n",
    "output.head()"
   ]
  },
  {
   "cell_type": "code",
   "execution_count": 117,
   "metadata": {
    "collapsed": true
   },
   "outputs": [],
   "source": [
    "output.to_csv('./naive_xgb_500.csv', index=False)"
   ]
  }
 ],
 "metadata": {
  "kernelspec": {
   "display_name": "Python 3",
   "language": "python",
   "name": "python3"
  },
  "language_info": {
   "codemirror_mode": {
    "name": "ipython",
    "version": 3
   },
   "file_extension": ".py",
   "mimetype": "text/x-python",
   "name": "python",
   "nbconvert_exporter": "python",
   "pygments_lexer": "ipython3",
   "version": "3.6.4"
  }
 },
 "nbformat": 4,
 "nbformat_minor": 2
}
